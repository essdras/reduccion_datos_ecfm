{
 "cells": [
  {
   "cell_type": "markdown",
   "id": "4b1fdb9a-a94a-4165-92c2-92773945d901",
   "metadata": {},
   "source": [
    "# Clase 2"
   ]
  },
  {
   "cell_type": "code",
   "execution_count": 54,
   "id": "b2f562c7-3bdd-4d40-b09d-f5eab508f2a9",
   "metadata": {},
   "outputs": [],
   "source": [
    "import matplotlib.pyplot as plt\n",
    "import seaborn as sns\n",
    "import numpy as np"
   ]
  },
  {
   "cell_type": "markdown",
   "id": "cdbc2420-ec7d-49c9-abea-714314eb8784",
   "metadata": {},
   "source": [
    "## Funciones"
   ]
  },
  {
   "cell_type": "code",
   "execution_count": 2,
   "id": "17c48a8d-3588-49e3-968c-c8c0e8f3dd1e",
   "metadata": {},
   "outputs": [],
   "source": [
    "complementos = {\n",
    "    \"curso\":\"Reduccion de datos\",\n",
    "    \"ciclo\":\"Primer semestre 2025\"\n",
    "}"
   ]
  },
  {
   "cell_type": "markdown",
   "id": "624b07d1-fba6-4f4c-885c-490e16e43b3c",
   "metadata": {},
   "source": [
    "**Ejercicio:** definir una funcion que encuentre el la llave de un diccionario segun su valor\n",
    "que tenga un argumento requerido llamdo `val` otro parametro que se llame `dic` y un argumento llamado `def_key` que tenga valor `None`por defecto y se utilice para retornar este valor si no existe la llave."
   ]
  },
  {
   "cell_type": "code",
   "execution_count": 3,
   "id": "52a4c694-59c5-49f9-8753-5a3981ef7b9c",
   "metadata": {
    "scrolled": true
   },
   "outputs": [
    {
     "name": "stdout",
     "output_type": "stream",
     "text": [
      "llave:curso  valor:Reduccion de datos\n",
      "nombre del curso\n"
     ]
    }
   ],
   "source": [
    "for key, valor in complementos.items():\n",
    "    print(\"llave:\"+key + \"  valor:\"+   valor)\n",
    "    if valor == \"Reduccion de datos\":\n",
    "        print(\"nombre del curso\")\n",
    "        break"
   ]
  },
  {
   "cell_type": "code",
   "execution_count": null,
   "id": "afb07977-c886-4df5-a6c1-e981c276f4e7",
   "metadata": {},
   "outputs": [],
   "source": []
  },
  {
   "cell_type": "code",
   "execution_count": null,
   "id": "851f3fd6-b143-4b6a-a0a0-862a98df0c31",
   "metadata": {},
   "outputs": [],
   "source": []
  },
  {
   "cell_type": "code",
   "execution_count": 4,
   "id": "2023b840-77c9-416b-9cd3-efc0afa7bf95",
   "metadata": {},
   "outputs": [],
   "source": [
    "def get_key(val, dic, def_key=None):\n",
    "    print(\"Buscando la llave \"+ val)\n",
    "    for key, valor in dic.items():\n",
    "        if valor == val:\n",
    "            return key\n",
    "    print(\"No se encontro llave\")\n",
    "    return def_key\n"
   ]
  },
  {
   "cell_type": "code",
   "execution_count": 11,
   "id": "be9d6911-9731-40e6-9b3b-2b69d2649e7f",
   "metadata": {},
   "outputs": [
    {
     "name": "stdout",
     "output_type": "stream",
     "text": [
      "Buscando la llave Reduccion de datos\n"
     ]
    },
    {
     "data": {
      "text/plain": [
       "'curso'"
      ]
     },
     "execution_count": 11,
     "metadata": {},
     "output_type": "execute_result"
    }
   ],
   "source": [
    "get_key(\"Reduccion de datos\", complementos)"
   ]
  },
  {
   "cell_type": "code",
   "execution_count": 10,
   "id": "7c51e79a-66d7-4c17-b67e-263a0b5e9980",
   "metadata": {},
   "outputs": [
    {
     "data": {
      "text/plain": [
       "'curso'"
      ]
     },
     "execution_count": 10,
     "metadata": {},
     "output_type": "execute_result"
    }
   ],
   "source": [
    "variable"
   ]
  },
  {
   "cell_type": "code",
   "execution_count": 8,
   "id": "7f78e138-5242-414b-a776-e51b40156d62",
   "metadata": {},
   "outputs": [
    {
     "name": "stdout",
     "output_type": "stream",
     "text": [
      "Buscando la llave u\n",
      "No se encontro llave\n",
      "llave no encontrada\n"
     ]
    }
   ],
   "source": [
    "llave = get_key(\"u\", complementos, \"llave no encontrada\")\n",
    "print(llave)"
   ]
  },
  {
   "cell_type": "markdown",
   "id": "7b4b9591-3a26-4713-9089-15626b4663a2",
   "metadata": {},
   "source": [
    "#### Agumentos posicionales"
   ]
  },
  {
   "cell_type": "code",
   "execution_count": 16,
   "id": "1dff9036-c089-4795-8da6-2fe6f2693036",
   "metadata": {},
   "outputs": [],
   "source": [
    "def funcion2(a,b,c):\n",
    "    print(a,b,c)"
   ]
  },
  {
   "cell_type": "code",
   "execution_count": null,
   "id": "485d7905-d5d1-41d9-a0d8-50dc3a84089d",
   "metadata": {},
   "outputs": [],
   "source": []
  },
  {
   "cell_type": "code",
   "execution_count": 15,
   "id": "57c29d5d-76c5-4950-9ec3-6b25f8a19ed5",
   "metadata": {},
   "outputs": [
    {
     "name": "stdout",
     "output_type": "stream",
     "text": [
      "3 2 1\n"
     ]
    }
   ],
   "source": [
    "funcion2(\n",
    "    c=1,a=3,\n",
    "    b=2\n",
    ")"
   ]
  },
  {
   "cell_type": "code",
   "execution_count": 14,
   "id": "9a8c0c00-cf3c-4b7b-87a8-40e1a5c641ea",
   "metadata": {},
   "outputs": [
    {
     "name": "stdout",
     "output_type": "stream",
     "text": [
      "3 2 1\n"
     ]
    }
   ],
   "source": [
    "funcion2(3,2,1)"
   ]
  },
  {
   "cell_type": "markdown",
   "id": "51d10add-2c3b-44df-b9df-0338eeab40fc",
   "metadata": {},
   "source": [
    "Ejemplo de multiples argumentos"
   ]
  },
  {
   "cell_type": "code",
   "execution_count": 21,
   "id": "a4710a17-d82d-4e39-a356-e926c73ade48",
   "metadata": {},
   "outputs": [],
   "source": [
    "def nombre_func(conteo, val=\"a\"):\n",
    "    print(conteo)\n",
    "    print(val)"
   ]
  },
  {
   "cell_type": "code",
   "execution_count": 23,
   "id": "7b092840-34c3-42f8-b8b3-ab25fdf2e69c",
   "metadata": {},
   "outputs": [
    {
     "name": "stdout",
     "output_type": "stream",
     "text": [
      "1\n",
      "asd\n"
     ]
    }
   ],
   "source": [
    "nombre_func(1, val=\"asd\")"
   ]
  },
  {
   "cell_type": "code",
   "execution_count": 24,
   "id": "02c33306-9715-4983-9427-4b13a9944e0c",
   "metadata": {},
   "outputs": [],
   "source": [
    "def multiple_args(*numeros, val):\n",
    "    print(val)\n",
    "    for n in numeros:\n",
    "        print(n)"
   ]
  },
  {
   "cell_type": "code",
   "execution_count": 26,
   "id": "c6d39dc5-3032-46c3-bffd-d8e10f049f04",
   "metadata": {},
   "outputs": [
    {
     "name": "stdout",
     "output_type": "stream",
     "text": [
      "3\n",
      "1\n",
      "8\n",
      "5\n",
      "2\n",
      "3\n",
      "5\n",
      "6\n",
      "6\n",
      "5\n",
      "5\n",
      "5\n"
     ]
    }
   ],
   "source": [
    "multiple_args(1,8,5,2,3,5,6,6,5,5,5, val=3)"
   ]
  },
  {
   "cell_type": "code",
   "execution_count": 27,
   "id": "d556732d-75b2-4ba8-b428-c5eac74c4a14",
   "metadata": {},
   "outputs": [
    {
     "name": "stdout",
     "output_type": "stream",
     "text": [
      "a\n",
      "1\n",
      "3\n",
      "4\n",
      "5\n",
      "7\n",
      "34\n",
      "43\n",
      "434\n",
      "3\n",
      "asd\n",
      "2\n",
      "3\n",
      "4\n"
     ]
    }
   ],
   "source": [
    "multiple_args(1,3,4,5,7,34,43,434,3,\"asd\",2,3,4, val=\"a\" )"
   ]
  },
  {
   "cell_type": "code",
   "execution_count": 31,
   "id": "4eecc73f-57ce-4834-9b9e-3bf2cd1b2f72",
   "metadata": {},
   "outputs": [],
   "source": [
    "def multiple_args(*numeros,  arg1, arg2=\"fgg\"):\n",
    "    print(\"Numeros:\")\n",
    "    for n in numeros:\n",
    "        print(n)\n",
    "    print(arg1)\n",
    "    print(arg2)\n",
    "    "
   ]
  },
  {
   "cell_type": "code",
   "execution_count": 29,
   "id": "73d81f62-c288-45c2-95e8-fc44d3c88b51",
   "metadata": {},
   "outputs": [
    {
     "name": "stdout",
     "output_type": "stream",
     "text": [
      "Numeros:\n",
      "1\n",
      "3\n",
      "4\n",
      "5\n",
      "7\n",
      "abc\n",
      "sda\n"
     ]
    }
   ],
   "source": [
    "multiple_args(1,3,4,5,7, arg1=\"abc\", arg2=\"sda\")"
   ]
  },
  {
   "cell_type": "code",
   "execution_count": 32,
   "id": "ec196952-70ca-4b20-89a4-2b01313d89a3",
   "metadata": {},
   "outputs": [
    {
     "name": "stdout",
     "output_type": "stream",
     "text": [
      "Numeros:\n",
      "1\n",
      "3\n",
      "4\n",
      "5\n",
      "7\n",
      "abc\n",
      "fgg\n"
     ]
    }
   ],
   "source": [
    "multiple_args(1,3,4,5,7, arg1 =\"abc\")"
   ]
  },
  {
   "cell_type": "markdown",
   "id": "fb5db9e4-781b-4ab7-ad07-ca80072d6f58",
   "metadata": {},
   "source": [
    "## Imports"
   ]
  },
  {
   "cell_type": "code",
   "execution_count": 34,
   "id": "264c3977-edec-48b2-85dd-13485f4f150e",
   "metadata": {},
   "outputs": [],
   "source": [
    "import math"
   ]
  },
  {
   "cell_type": "code",
   "execution_count": 36,
   "id": "a0301c4a-af82-470a-9fc6-c47e14fc51e7",
   "metadata": {},
   "outputs": [],
   "source": [
    "pi = math.pi"
   ]
  },
  {
   "cell_type": "code",
   "execution_count": 37,
   "id": "65610b67-7e34-4d45-a896-b2dfc4f55154",
   "metadata": {},
   "outputs": [
    {
     "data": {
      "text/plain": [
       "3.141592653589793"
      ]
     },
     "execution_count": 37,
     "metadata": {},
     "output_type": "execute_result"
    }
   ],
   "source": [
    "from math import pi\n",
    "pi"
   ]
  },
  {
   "cell_type": "code",
   "execution_count": null,
   "id": "4747b8b9-1c26-4bd0-9718-0cff15d82d5a",
   "metadata": {},
   "outputs": [],
   "source": [
    "pi"
   ]
  },
  {
   "cell_type": "code",
   "execution_count": 38,
   "id": "a2308f8d-a605-4ee5-ad7c-3feb49d314f9",
   "metadata": {},
   "outputs": [],
   "source": [
    "from math import pi as p"
   ]
  },
  {
   "cell_type": "code",
   "execution_count": 39,
   "id": "419f646e-f7f8-40ca-99fb-2058c7a22f60",
   "metadata": {},
   "outputs": [],
   "source": [
    "pi = round(p,2)"
   ]
  },
  {
   "cell_type": "code",
   "execution_count": 40,
   "id": "6986841b-60ca-42e3-9f57-a5ffb4452854",
   "metadata": {},
   "outputs": [
    {
     "name": "stdout",
     "output_type": "stream",
     "text": [
      "3.141592653589793\n",
      "3.14\n"
     ]
    }
   ],
   "source": [
    "print(p)\n",
    "print(pi)"
   ]
  },
  {
   "cell_type": "code",
   "execution_count": null,
   "id": "8eb99b0f-3950-476b-af83-c4974753f7b7",
   "metadata": {},
   "outputs": [],
   "source": []
  },
  {
   "cell_type": "code",
   "execution_count": 1,
   "id": "e575bd20-043e-4538-95f2-8b359c022191",
   "metadata": {},
   "outputs": [],
   "source": [
    "import mi_lib"
   ]
  },
  {
   "cell_type": "code",
   "execution_count": 5,
   "id": "8de58d4e-cdba-4f0e-b994-9f01b3d0291c",
   "metadata": {},
   "outputs": [],
   "source": [
    "from mi_lib import get_key"
   ]
  },
  {
   "cell_type": "code",
   "execution_count": 2,
   "id": "be3925a9-1960-4f2e-bffa-c7126d7f43ba",
   "metadata": {},
   "outputs": [],
   "source": [
    "complementos = {\n",
    "    \"a\":\"t\",\n",
    "    \"c\":\"g\"\n",
    "}"
   ]
  },
  {
   "cell_type": "code",
   "execution_count": 3,
   "id": "44c1400b-050a-4ac4-9f8b-212c7b194c48",
   "metadata": {},
   "outputs": [
    {
     "name": "stdout",
     "output_type": "stream",
     "text": [
      "Buscando la llave t\n"
     ]
    },
    {
     "data": {
      "text/plain": [
       "'a'"
      ]
     },
     "execution_count": 3,
     "metadata": {},
     "output_type": "execute_result"
    }
   ],
   "source": [
    "mi_lib.get_key(\"t\", complementos)"
   ]
  },
  {
   "cell_type": "code",
   "execution_count": 6,
   "id": "af71bc93-8e6b-480d-b65e-bf03f9c26130",
   "metadata": {},
   "outputs": [
    {
     "name": "stdout",
     "output_type": "stream",
     "text": [
      "Buscando la llave t\n"
     ]
    },
    {
     "data": {
      "text/plain": [
       "'a'"
      ]
     },
     "execution_count": 6,
     "metadata": {},
     "output_type": "execute_result"
    }
   ],
   "source": [
    "get_key(\"t\", complementos)"
   ]
  },
  {
   "cell_type": "code",
   "execution_count": null,
   "id": "37b15abd-34c8-4f1b-a7d7-f15521f6cb33",
   "metadata": {},
   "outputs": [],
   "source": []
  },
  {
   "cell_type": "code",
   "execution_count": null,
   "id": "72555835-9836-45ba-9263-191015896489",
   "metadata": {},
   "outputs": [],
   "source": []
  },
  {
   "cell_type": "markdown",
   "id": "6c04d631-91f6-4d02-b3a1-7bec467dae83",
   "metadata": {},
   "source": [
    "# NumPy\n",
    "\n",
    "\n",
    "* Su nombre se deriva de Numeric Python\n",
    "* Es una libreria amplia:   user guide de casi 200 pagina, reference manual mas de 1500\n",
    "    * np. <tab> para ver opciones\n",
    "    * np.lookfor? , help(np.lookfor)\n",
    "    * np.lookfor(“cosine”)\n",
    "    * np.cos? , help(np.cos)\n",
    "* Paquete fundamental de computación científica en Python y base para otros paquetes mas específicos y/o avanzados\n",
    "* Performance superior, parecido a lenguajes compilados con la facilidad de Python\n",
    "* ndarrays :  tipo básico de objeto, corresponde al tipo de objeto matemático conocido como Tensor\n",
    "    * Arreglos multidimensionales\n",
    "    * Mutables como las listas\n",
    "    * Podemos hacer indexing y slicing sobre ellos\n",
    "\n",
    "* Tipo de dato y tamaño fijado en creación lo cual le permite aplicar optimizaciones: El usar el mismo tipo y tamaño definido permite asegurar que todos los objetos utilizan el mismo tamaño de memoria y esto permite realizar muchas operaciones pre-compiladas de C. Esto permite realizar operaciones mucho mas efcientemente y con menos código que con listas.\n",
    "\n",
    "\n",
    "    \n",
    "### ¿NumPy mas que algebra lineal?\n",
    "\n",
    "Aun que NumPy se basa mucho y es muy útil para algebra lineal y estructuras de esta rama, también es útil para realizar otros tipos de operaciones numéricas y es la base  para otros paquetes mas específicos , por ejemplo podemos usar NumPy también para:\n",
    "\n",
    "* Numeros aleatorios: NumPy provee capacidades para trabajar con números aleatorios y colecciones de esto, por ejemplo generación de numeros aleatorios de muchas distribuciones de probabiliad(muestreo/sampleo) escencial en estadística y modelación y simulación.\n",
    "* Estadistica descriptiva\n",
    "* Scipy: paquete basado en Python que extiende muchas de sus capacidades con capacidades adicionales como:\n",
    "    * Integración y solución de ecuaciones diferenciales.\n",
    "    * Encontrar raices de funciones y optimización numérica.\n",
    "    * Algebra lineal adicional."
   ]
  },
  {
   "cell_type": "markdown",
   "id": "a55fdddb-fa45-4285-8d08-de4046ad3837",
   "metadata": {},
   "source": [
    "<img src=\"https://cdn-images-1.medium.com/max/1600/1*pUr-9ctuGamgjSwoW_KU-A.png\">\n",
    "\n",
    "\n",
    "\n",
    "<img src=\"https://cdn-images-1.medium.com/max/2000/1*_D5ZvufDS38WkhK9rK32hQ.jpeg\">"
   ]
  },
  {
   "cell_type": "markdown",
   "id": "bf15869e-cfae-44f4-8598-6e6a1da70339",
   "metadata": {},
   "source": [
    "### Importamos Numpy"
   ]
  },
  {
   "cell_type": "code",
   "execution_count": 7,
   "id": "09080c80-04ce-45d7-b218-656ff329ea35",
   "metadata": {},
   "outputs": [],
   "source": [
    "import numpy as np"
   ]
  },
  {
   "cell_type": "markdown",
   "id": "6720d1bb-f229-4de3-bc51-df2cb1f00d1a",
   "metadata": {},
   "source": [
    "## Rango y dimensión \n",
    "\n",
    "Como dijimos, ya que vectores y matrices son Tensores, necesitamos una característica que los distinga, esto es matemáticamente el **rango** del Tensor , en el mundo de NumPy obtenemos esto al usar la característica **ndim** sobre un Tensor dado.\n",
    "\n",
    "Si pensamos en la representación gráfica podemos pensar que el rango nos indica cuantos \"ejes\" posee el espacio sobre el que se define el tensor ,y necesitamos un número por cada eje para especificar cierto vector,  desde la perspectiva de la colección de números esto nos indica cuantos indices necesitamos para especificar o acceder cierto punto.\n",
    "\n",
    "La dimensión o forma del tensor nos indica cuantos elementos este puede almacenar distribuidas en cada uno de sus \"ejes\".\n",
    "\n",
    "Para vectores, el rango  es 1, y la dimensión es cuantos elementos el vector posee. \n",
    "\n",
    "Resumen\n",
    "* ndim = entero indicando el rango de un tensor(cuantos ejes posee)\n",
    "* shape = tupla indicando la forma(cuantos elementos posee el tensor en cada uno de sus ejes)"
   ]
  },
  {
   "cell_type": "code",
   "execution_count": 9,
   "id": "fc9b8de9-16c3-4fb0-ba3d-310b9f387fe4",
   "metadata": {},
   "outputs": [
    {
     "data": {
      "text/plain": [
       "list"
      ]
     },
     "execution_count": 9,
     "metadata": {},
     "output_type": "execute_result"
    }
   ],
   "source": [
    "type([1,2,3,4,5,6])"
   ]
  },
  {
   "cell_type": "code",
   "execution_count": 16,
   "id": "95ae59c8-042e-4e40-8005-b0d42407580b",
   "metadata": {},
   "outputs": [],
   "source": [
    "x = np.array([1,2,3,4,5,6])"
   ]
  },
  {
   "cell_type": "code",
   "execution_count": 12,
   "id": "b3647aea-cca5-4e96-be37-2ba7df806a29",
   "metadata": {},
   "outputs": [
    {
     "data": {
      "text/plain": [
       "array([1, 2, 3, 4, 5, 6])"
      ]
     },
     "execution_count": 12,
     "metadata": {},
     "output_type": "execute_result"
    }
   ],
   "source": [
    "x"
   ]
  },
  {
   "cell_type": "code",
   "execution_count": 17,
   "id": "aea402a7-59c7-4fc3-ad30-cf90039cb7fd",
   "metadata": {},
   "outputs": [
    {
     "name": "stdout",
     "output_type": "stream",
     "text": [
      "1\n",
      "6\n",
      "(6,)\n",
      "1\n"
     ]
    }
   ],
   "source": [
    "print(x.ndim)\n",
    "print(len(x))\n",
    "print(x.shape)\n",
    "print(len(x.shape)) #forma de obtener el rango del tensor a partir de su dimension"
   ]
  },
  {
   "cell_type": "code",
   "execution_count": 18,
   "id": "4a3fcc46-2251-402f-b45b-d8ce84f747fc",
   "metadata": {},
   "outputs": [
    {
     "name": "stdout",
     "output_type": "stream",
     "text": [
      "[[1 2 3 3]\n",
      " [4 5 6 8]\n",
      " [4 5 6 8]]\n"
     ]
    }
   ],
   "source": [
    "x = np.array([[1,2,3,3],\n",
    "              [4,5,6,8],\n",
    "              [4,5,6,8]])\n",
    "print(x)"
   ]
  },
  {
   "cell_type": "code",
   "execution_count": 21,
   "id": "c61ef05a-3fbd-4b24-9d9f-a09b03ebf225",
   "metadata": {},
   "outputs": [
    {
     "name": "stdout",
     "output_type": "stream",
     "text": [
      "2\n",
      "(3, 4)\n",
      "4\n"
     ]
    }
   ],
   "source": [
    "print(x.ndim)\n",
    "print(x.shape)\n",
    "print(x.shape[1])  #forma de obtener el rango del tensor a partir de su dimension"
   ]
  },
  {
   "cell_type": "markdown",
   "id": "a760fc5a-e8c4-40a8-9802-7b86aef79ab4",
   "metadata": {},
   "source": [
    "**Ejercicio**: Usar los valores de shape para imprimir lo siguiente\n",
    "```\n",
    "Filas de x: 2\n",
    "Columnas de x: 3\n",
    "```"
   ]
  },
  {
   "cell_type": "code",
   "execution_count": 22,
   "id": "9d8d2fdd-a520-4928-8f90-ba5d693561b5",
   "metadata": {},
   "outputs": [
    {
     "data": {
      "text/plain": [
       "4"
      ]
     },
     "execution_count": 22,
     "metadata": {},
     "output_type": "execute_result"
    }
   ],
   "source": [
    "x.shape[1]"
   ]
  },
  {
   "cell_type": "code",
   "execution_count": 23,
   "id": "9f1c2107-d426-4377-b6a1-33d688f1447b",
   "metadata": {
    "colab": {
     "base_uri": "https://localhost:8080/"
    },
    "executionInfo": {
     "elapsed": 26,
     "status": "ok",
     "timestamp": 1646703264861,
     "user": {
      "displayName": "Luis Fernando Leal Hernandez",
      "photoUrl": "https://lh3.googleusercontent.com/a/default-user=s64",
      "userId": "08643725771405988586"
     },
     "user_tz": 360
    },
    "id": "2n7AZvVPaxse",
    "outputId": "c1fa27eb-4d6d-44e6-bec3-66b75e12fec0"
   },
   "outputs": [
    {
     "name": "stdout",
     "output_type": "stream",
     "text": [
      "Filas de x: 3\n",
      "Columnas de x: 4\n"
     ]
    }
   ],
   "source": [
    "print(\"Filas de x: \" + str(x.shape[0]))\n",
    "print(\"Columnas de x: \" + str(x.shape[1]))"
   ]
  },
  {
   "cell_type": "code",
   "execution_count": null,
   "id": "804a9651-a979-4b1a-abe3-39dcf0e28d6e",
   "metadata": {},
   "outputs": [],
   "source": []
  },
  {
   "cell_type": "markdown",
   "id": "3080be41-f8f3-4ce3-bcba-b20fbdaea92d",
   "metadata": {},
   "source": [
    "### Numpy vrs Python Lists"
   ]
  },
  {
   "cell_type": "code",
   "execution_count": 27,
   "id": "1425e8a1-49ba-4aac-a4d2-8f2c6cd1d68a",
   "metadata": {},
   "outputs": [],
   "source": [
    "import time"
   ]
  },
  {
   "cell_type": "markdown",
   "id": "f544b33f-ea24-40b7-9159-0318ccd4016a",
   "metadata": {},
   "source": [
    "### Python Lists"
   ]
  },
  {
   "cell_type": "code",
   "execution_count": 24,
   "id": "97336043-b543-4f26-a854-2cc08c963d65",
   "metadata": {},
   "outputs": [],
   "source": [
    "a = list(range(10000000))"
   ]
  },
  {
   "cell_type": "code",
   "execution_count": 25,
   "id": "74fcc3e9-0ecc-4b92-8db0-8c41c8519938",
   "metadata": {},
   "outputs": [
    {
     "data": {
      "text/plain": [
       "10000000"
      ]
     },
     "execution_count": 25,
     "metadata": {},
     "output_type": "execute_result"
    }
   ],
   "source": [
    "len(a)"
   ]
  },
  {
   "cell_type": "code",
   "execution_count": 28,
   "id": "fb0a49d5-1c9a-4672-b104-418267bed132",
   "metadata": {},
   "outputs": [
    {
     "name": "stdout",
     "output_type": "stream",
     "text": [
      "1.1748290061950684 seconds\n"
     ]
    }
   ],
   "source": [
    "\n",
    "b = []\n",
    "starttime = time.time()\n",
    "for i in range(len(a)):\n",
    "    b.append(a[i]+1)\n",
    "\n",
    "print(time.time()-starttime, \"seconds\")"
   ]
  },
  {
   "cell_type": "code",
   "execution_count": 29,
   "id": "1bf0d1e3-b840-431f-8df8-76a7a4febb4a",
   "metadata": {},
   "outputs": [
    {
     "data": {
      "text/plain": [
       "10000000"
      ]
     },
     "execution_count": 29,
     "metadata": {},
     "output_type": "execute_result"
    }
   ],
   "source": [
    "len(b)"
   ]
  },
  {
   "cell_type": "code",
   "execution_count": 30,
   "id": "3a92af1f-f288-45af-9914-de978fd8fc13",
   "metadata": {},
   "outputs": [
    {
     "name": "stdout",
     "output_type": "stream",
     "text": [
      "[0, 1, 2, 3, 4, 5, 6, 7, 8, 9]\n",
      "[1, 2, 3, 4, 5, 6, 7, 8, 9, 10]\n"
     ]
    }
   ],
   "source": [
    "print(a[:10])\n",
    "print(b[:10])"
   ]
  },
  {
   "cell_type": "markdown",
   "id": "5f196a14-9c45-4a39-9eca-f0618d039d32",
   "metadata": {},
   "source": [
    "#### Numpy"
   ]
  },
  {
   "cell_type": "code",
   "execution_count": 31,
   "id": "59948e1d-3fb6-40f3-bf45-400461666edb",
   "metadata": {},
   "outputs": [],
   "source": [
    "a = np.array(a)"
   ]
  },
  {
   "cell_type": "code",
   "execution_count": 32,
   "id": "266ea50c-6901-4769-a5c1-d80314cf7836",
   "metadata": {},
   "outputs": [
    {
     "name": "stdout",
     "output_type": "stream",
     "text": [
      "0.10417556762695312 seconds\n"
     ]
    }
   ],
   "source": [
    "\n",
    "starttime = time.time()\n",
    "b = a + 1\n",
    "print(time.time()-starttime, \"seconds\")"
   ]
  },
  {
   "cell_type": "code",
   "execution_count": 33,
   "id": "5023df20-d315-46b7-b872-4f4bd93139e8",
   "metadata": {},
   "outputs": [
    {
     "name": "stdout",
     "output_type": "stream",
     "text": [
      "[0 1 2 3 4 5 6 7 8 9]\n",
      "[ 1  2  3  4  5  6  7  8  9 10]\n"
     ]
    }
   ],
   "source": [
    "print(a[:10])\n",
    "print(b[:10])"
   ]
  },
  {
   "cell_type": "markdown",
   "id": "7655157f-fa3e-46f3-978c-ff324447b9f1",
   "metadata": {
    "id": "3DHU14Znaxsf"
   },
   "source": [
    "### Constructores de vectores\n",
    "\n",
    "NumPy provee diversas formas para crear o construir vectores, por ejemplo:\n",
    "* np.linspace\n",
    "* np.array\n",
    "* np.arange\n",
    "* np.zeros\n",
    "* np.ones\n",
    "\n",
    "Existen otras pero estas son posiblemente las mas comunes. Puedes consultar las otras disponibles en: https://docs.scipy.org/doc/numpy/reference/routines.array-creation.html"
   ]
  },
  {
   "cell_type": "code",
   "execution_count": 34,
   "id": "fd5b4da9-633c-419c-bb93-4b6519f39d53",
   "metadata": {},
   "outputs": [
    {
     "data": {
      "text/plain": [
       "array([1.        , 1.02040816, 1.04081633, 1.06122449, 1.08163265,\n",
       "       1.10204082, 1.12244898, 1.14285714, 1.16326531, 1.18367347,\n",
       "       1.20408163, 1.2244898 , 1.24489796, 1.26530612, 1.28571429,\n",
       "       1.30612245, 1.32653061, 1.34693878, 1.36734694, 1.3877551 ,\n",
       "       1.40816327, 1.42857143, 1.44897959, 1.46938776, 1.48979592,\n",
       "       1.51020408, 1.53061224, 1.55102041, 1.57142857, 1.59183673,\n",
       "       1.6122449 , 1.63265306, 1.65306122, 1.67346939, 1.69387755,\n",
       "       1.71428571, 1.73469388, 1.75510204, 1.7755102 , 1.79591837,\n",
       "       1.81632653, 1.83673469, 1.85714286, 1.87755102, 1.89795918,\n",
       "       1.91836735, 1.93877551, 1.95918367, 1.97959184, 2.        ])"
      ]
     },
     "execution_count": 34,
     "metadata": {},
     "output_type": "execute_result"
    }
   ],
   "source": [
    "np.linspace(1,2)"
   ]
  },
  {
   "cell_type": "code",
   "execution_count": 35,
   "id": "21ebf765-ba9e-49b5-ba3c-a9c7f07de866",
   "metadata": {},
   "outputs": [
    {
     "data": {
      "text/plain": [
       "array([1.  , 1.05, 1.1 , 1.15, 1.2 , 1.25, 1.3 , 1.35, 1.4 , 1.45, 1.5 ,\n",
       "       1.55, 1.6 , 1.65, 1.7 , 1.75, 1.8 , 1.85, 1.9 , 1.95])"
      ]
     },
     "execution_count": 35,
     "metadata": {},
     "output_type": "execute_result"
    }
   ],
   "source": [
    "np.linspace(1,2, 20, endpoint=False)"
   ]
  },
  {
   "cell_type": "code",
   "execution_count": 36,
   "id": "e3dc0b56-e2cd-4573-a917-9a3b03e0a7ae",
   "metadata": {
    "colab": {
     "base_uri": "https://localhost:8080/"
    },
    "executionInfo": {
     "elapsed": 23,
     "status": "ok",
     "timestamp": 1646703264861,
     "user": {
      "displayName": "Luis Fernando Leal Hernandez",
      "photoUrl": "https://lh3.googleusercontent.com/a/default-user=s64",
      "userId": "08643725771405988586"
     },
     "user_tz": 360
    },
    "id": "YLLOwO1qaxsg",
    "outputId": "703fe811-e9cd-4059-9314-76f6a4569b0b"
   },
   "outputs": [
    {
     "name": "stdout",
     "output_type": "stream",
     "text": [
      "[0.         0.10204082 0.20408163 0.30612245 0.40816327 0.51020408\n",
      " 0.6122449  0.71428571 0.81632653 0.91836735 1.02040816 1.12244898\n",
      " 1.2244898  1.32653061 1.42857143 1.53061224 1.63265306 1.73469388\n",
      " 1.83673469 1.93877551 2.04081633 2.14285714 2.24489796 2.34693878\n",
      " 2.44897959 2.55102041 2.65306122 2.75510204 2.85714286 2.95918367\n",
      " 3.06122449 3.16326531 3.26530612 3.36734694 3.46938776 3.57142857\n",
      " 3.67346939 3.7755102  3.87755102 3.97959184 4.08163265 4.18367347\n",
      " 4.28571429 4.3877551  4.48979592 4.59183673 4.69387755 4.79591837\n",
      " 4.89795918 5.        ]\n"
     ]
    }
   ],
   "source": [
    "x = np.linspace(0,5,50,endpoint=True,retstep=False)\n",
    "\n",
    "print(x)"
   ]
  },
  {
   "cell_type": "code",
   "execution_count": 37,
   "id": "e1774f1d-fb06-4db4-a9d9-9141a5dbc523",
   "metadata": {
    "colab": {
     "base_uri": "https://localhost:8080/"
    },
    "executionInfo": {
     "elapsed": 19,
     "status": "ok",
     "timestamp": 1646703264862,
     "user": {
      "displayName": "Luis Fernando Leal Hernandez",
      "photoUrl": "https://lh3.googleusercontent.com/a/default-user=s64",
      "userId": "08643725771405988586"
     },
     "user_tz": 360
    },
    "id": "Ni_Pq3h5axsh",
    "outputId": "c0599afa-523d-4d37-ae79-46301c9c1247"
   },
   "outputs": [
    {
     "data": {
      "text/plain": [
       "array([0. , 0.1, 0.2, 0.3, 0.4, 0.5, 0.6, 0.7, 0.8, 0.9, 1. , 1.1, 1.2,\n",
       "       1.3, 1.4, 1.5, 1.6, 1.7, 1.8, 1.9, 2. , 2.1, 2.2, 2.3, 2.4, 2.5,\n",
       "       2.6, 2.7, 2.8, 2.9, 3. , 3.1, 3.2, 3.3, 3.4, 3.5, 3.6, 3.7, 3.8,\n",
       "       3.9, 4. , 4.1, 4.2, 4.3, 4.4, 4.5, 4.6, 4.7, 4.8, 4.9])"
      ]
     },
     "execution_count": 37,
     "metadata": {},
     "output_type": "execute_result"
    }
   ],
   "source": [
    "x = np.linspace(0,5,50,endpoint=False,retstep=False)\n",
    "\n",
    "x\n"
   ]
  },
  {
   "cell_type": "code",
   "execution_count": 39,
   "id": "a5fe76a5-c785-4065-8d1c-b37acfeb3b10",
   "metadata": {},
   "outputs": [],
   "source": [
    "resultado= np.linspace(0,5,50,endpoint=False,retstep=True)"
   ]
  },
  {
   "cell_type": "code",
   "execution_count": 42,
   "id": "29a2eae3-cbdb-493e-9b8d-2341700274aa",
   "metadata": {},
   "outputs": [
    {
     "data": {
      "text/plain": [
       "np.float64(0.1)"
      ]
     },
     "execution_count": 42,
     "metadata": {},
     "output_type": "execute_result"
    }
   ],
   "source": [
    "resultado[1]"
   ]
  },
  {
   "cell_type": "code",
   "execution_count": 43,
   "id": "aa138526-3082-4ab5-bee8-9790a29ada62",
   "metadata": {
    "colab": {
     "base_uri": "https://localhost:8080/"
    },
    "executionInfo": {
     "elapsed": 15,
     "status": "ok",
     "timestamp": 1646703264862,
     "user": {
      "displayName": "Luis Fernando Leal Hernandez",
      "photoUrl": "https://lh3.googleusercontent.com/a/default-user=s64",
      "userId": "08643725771405988586"
     },
     "user_tz": 360
    },
    "id": "eDCHx4Dtaxsi",
    "outputId": "dea41675-30bc-4357-edcf-3499661c3b93"
   },
   "outputs": [
    {
     "name": "stdout",
     "output_type": "stream",
     "text": [
      "[0.         0.10204082 0.20408163 0.30612245 0.40816327 0.51020408\n",
      " 0.6122449  0.71428571 0.81632653 0.91836735 1.02040816 1.12244898\n",
      " 1.2244898  1.32653061 1.42857143 1.53061224 1.63265306 1.73469388\n",
      " 1.83673469 1.93877551 2.04081633 2.14285714 2.24489796 2.34693878\n",
      " 2.44897959 2.55102041 2.65306122 2.75510204 2.85714286 2.95918367\n",
      " 3.06122449 3.16326531 3.26530612 3.36734694 3.46938776 3.57142857\n",
      " 3.67346939 3.7755102  3.87755102 3.97959184 4.08163265 4.18367347\n",
      " 4.28571429 4.3877551  4.48979592 4.59183673 4.69387755 4.79591837\n",
      " 4.89795918 5.        ]\n",
      "0.10204081632653061\n",
      "(50,)\n",
      "1\n"
     ]
    }
   ],
   "source": [
    "arreglo, paso = np.linspace(0,5,50,endpoint=True,retstep=True)\n",
    "\n",
    "print(arreglo)\n",
    "print(paso)\n",
    "print(arreglo.shape)\n",
    "print(arreglo.ndim)"
   ]
  },
  {
   "cell_type": "code",
   "execution_count": null,
   "id": "a8bfdff2-7249-4513-947e-74f94c977216",
   "metadata": {},
   "outputs": [],
   "source": [
    "paso"
   ]
  },
  {
   "cell_type": "markdown",
   "id": "911d6037-b29b-4468-9ae6-34fc660f5f0e",
   "metadata": {},
   "source": [
    "**Ejercicio**: Generar un arreglo de numpy utilizando linespace, con 50 muestras"
   ]
  },
  {
   "cell_type": "code",
   "execution_count": null,
   "id": "6c181a33-85dd-4820-bb02-0354ddf6bddf",
   "metadata": {
    "colab": {
     "base_uri": "https://localhost:8080/"
    },
    "executionInfo": {
     "elapsed": 13,
     "status": "ok",
     "timestamp": 1646703264863,
     "user": {
      "displayName": "Luis Fernando Leal Hernandez",
      "photoUrl": "https://lh3.googleusercontent.com/a/default-user=s64",
      "userId": "08643725771405988586"
     },
     "user_tz": 360
    },
    "id": "yLquVN5Daxsk",
    "outputId": "ac578fa8-3eb8-4338-9f6f-79b1b5823c65"
   },
   "outputs": [],
   "source": [
    "x = np.linspace(1,5)\n",
    "\n",
    "print(x)"
   ]
  },
  {
   "cell_type": "code",
   "execution_count": null,
   "id": "4f3a3447-0672-46d1-8d1c-0bc44d188d4b",
   "metadata": {
    "colab": {
     "base_uri": "https://localhost:8080/",
     "height": 265
    },
    "executionInfo": {
     "elapsed": 437,
     "status": "ok",
     "timestamp": 1646703265291,
     "user": {
      "displayName": "Luis Fernando Leal Hernandez",
      "photoUrl": "https://lh3.googleusercontent.com/a/default-user=s64",
      "userId": "08643725771405988586"
     },
     "user_tz": 360
    },
    "id": "Ozn0bwT3Howi",
    "outputId": "b865444a-94c9-4ac9-a716-8c05db537643"
   },
   "outputs": [],
   "source": [
    "import matplotlib.pyplot as plt\n",
    "\n",
    "x = np.linspace(0,100,100)\n",
    "y = np.square(x)\n",
    "\n",
    "plt.plot(x,y)\n",
    "plt.show()"
   ]
  },
  {
   "cell_type": "code",
   "execution_count": null,
   "id": "91a76061-b2f1-4fe7-91bf-c296b1b3c14a",
   "metadata": {},
   "outputs": [],
   "source": []
  },
  {
   "cell_type": "code",
   "execution_count": null,
   "id": "4e8a49b8-c3cf-4217-a414-bdb6aba661e5",
   "metadata": {},
   "outputs": [],
   "source": [
    "y = np.logspace(0, 3, 10)\n",
    "x = range(y.shape[0])\n",
    "plt.plot(x,y)\n",
    "plt.show()"
   ]
  },
  {
   "cell_type": "code",
   "execution_count": null,
   "id": "495bf942-1735-4f73-bf00-ae036e2cfcec",
   "metadata": {},
   "outputs": [],
   "source": []
  },
  {
   "cell_type": "markdown",
   "id": "ff2f7eb2-4527-40ae-8d8b-f7169b791a08",
   "metadata": {
    "id": "-h22TCegaxsl"
   },
   "source": [
    "**np.arange**\n",
    "Esta función es parecida a la función **range** que vimos en ciclos, pero genera un vector de NumPy que puede ser utilizdo en otras expresiones o ser asignado a variables para posterior uso.\n",
    "```\n",
    "arange(start=0,stop,step = 1,dtype=None) \n",
    "```\n",
    "Intenta determinar el tipo de datos a partir de los parametros pero se puede sobreescribir si lo especificamos con dtype"
   ]
  },
  {
   "cell_type": "code",
   "execution_count": null,
   "id": "6cc2d86d-f0a6-42c2-805d-c26d853f9f02",
   "metadata": {
    "colab": {
     "base_uri": "https://localhost:8080/"
    },
    "executionInfo": {
     "elapsed": 36,
     "status": "ok",
     "timestamp": 1646703265293,
     "user": {
      "displayName": "Luis Fernando Leal Hernandez",
      "photoUrl": "https://lh3.googleusercontent.com/a/default-user=s64",
      "userId": "08643725771405988586"
     },
     "user_tz": 360
    },
    "id": "DKibpfubaxsm",
    "outputId": "7fee9f38-04d2-4ec3-99f1-f2468f6cc5ae"
   },
   "outputs": [],
   "source": [
    "yo = np.arange(1,10)\n",
    "yoc = np.arange(2,10,dtype = float)\n",
    "\n",
    "yo,yoc"
   ]
  },
  {
   "cell_type": "code",
   "execution_count": null,
   "id": "bfd1687a-40d2-424d-9874-33a45e28749e",
   "metadata": {},
   "outputs": [],
   "source": [
    "x = np.array([[1,2,3],[4,5,6]], dtype=float)\n",
    "print(x)"
   ]
  },
  {
   "cell_type": "markdown",
   "id": "6f4be75f-0491-4ff8-a690-274e0a7ab2fd",
   "metadata": {
    "id": "qMJYHKXgaxsp"
   },
   "source": [
    "En muchos casos es útil crear vectores inicializados con 0s o 1s ,o bien cuando no nos importa su valor inicial podemos especificar que sean creados  como vácios.\n",
    "\n",
    "Esto lo logramos con:\n",
    "* np.zeros\n",
    "* np.ones\n",
    "* np.empty"
   ]
  },
  {
   "cell_type": "code",
   "execution_count": null,
   "id": "42174a9f-f623-4157-b3ed-62d905705d18",
   "metadata": {
    "colab": {
     "base_uri": "https://localhost:8080/"
    },
    "executionInfo": {
     "elapsed": 32,
     "status": "ok",
     "timestamp": 1646703265295,
     "user": {
      "displayName": "Luis Fernando Leal Hernandez",
      "photoUrl": "https://lh3.googleusercontent.com/a/default-user=s64",
      "userId": "08643725771405988586"
     },
     "user_tz": 360
    },
    "id": "4bJnYejKaxsq",
    "outputId": "98798978-d90b-4698-e359-347c646c5dfc"
   },
   "outputs": [],
   "source": [
    "np.array([0,0,0,0,0])"
   ]
  },
  {
   "cell_type": "code",
   "execution_count": 44,
   "id": "96b856d1-1a00-4ff1-87d3-b798ed46c8cc",
   "metadata": {
    "colab": {
     "base_uri": "https://localhost:8080/"
    },
    "executionInfo": {
     "elapsed": 31,
     "status": "ok",
     "timestamp": 1646703265297,
     "user": {
      "displayName": "Luis Fernando Leal Hernandez",
      "photoUrl": "https://lh3.googleusercontent.com/a/default-user=s64",
      "userId": "08643725771405988586"
     },
     "user_tz": 360
    },
    "id": "osqRN6jnaxsr",
    "outputId": "2d07d666-fb15-42bf-b1ca-1b55e73ea175"
   },
   "outputs": [
    {
     "data": {
      "text/plain": [
       "array([0., 0., 0., 0., 0.])"
      ]
     },
     "execution_count": 44,
     "metadata": {},
     "output_type": "execute_result"
    }
   ],
   "source": [
    "np.zeros(5)"
   ]
  },
  {
   "cell_type": "code",
   "execution_count": 45,
   "id": "00c22282-139d-49b0-84a8-fec7ea0452b7",
   "metadata": {
    "colab": {
     "base_uri": "https://localhost:8080/"
    },
    "executionInfo": {
     "elapsed": 29,
     "status": "ok",
     "timestamp": 1646703265298,
     "user": {
      "displayName": "Luis Fernando Leal Hernandez",
      "photoUrl": "https://lh3.googleusercontent.com/a/default-user=s64",
      "userId": "08643725771405988586"
     },
     "user_tz": 360
    },
    "id": "wR_k8Vu_axst",
    "outputId": "83fcfb56-277f-409b-8268-a8debccf375b"
   },
   "outputs": [
    {
     "data": {
      "text/plain": [
       "array([1., 1., 1., 1., 1.])"
      ]
     },
     "execution_count": 45,
     "metadata": {},
     "output_type": "execute_result"
    }
   ],
   "source": [
    "np.ones(5)"
   ]
  },
  {
   "cell_type": "code",
   "execution_count": null,
   "id": "cc8f7dc4-cc3f-444f-a424-53143b2d46bc",
   "metadata": {
    "colab": {
     "base_uri": "https://localhost:8080/"
    },
    "executionInfo": {
     "elapsed": 25,
     "status": "ok",
     "timestamp": 1646703265298,
     "user": {
      "displayName": "Luis Fernando Leal Hernandez",
      "photoUrl": "https://lh3.googleusercontent.com/a/default-user=s64",
      "userId": "08643725771405988586"
     },
     "user_tz": 360
    },
    "id": "taujSBaTaxsv",
    "outputId": "f07592ce-27ba-4e47-b955-b4b64aa4668c"
   },
   "outputs": [],
   "source": [
    "np.empty(4, int)  # el valor varia, experimentemos cambiando el tipo con ndtype = <tipo>"
   ]
  },
  {
   "cell_type": "markdown",
   "id": "190e39ec-18bd-44e3-9688-03e1e909bf0f",
   "metadata": {
    "id": "zPiWm8vlaxsw"
   },
   "source": [
    "**Vectores a partir de datos existentes**\n",
    "Podemos también construir vectores  a partir de datos existentes(por ejempro listas de números, u otros vectores)  o bien especificar explicitamente con que valores queremos que un vector sea creado.\n",
    "\n",
    "Esto lo logramos basicamente con 2 funciones(nuevamente existen otras a explorar):\n",
    "\n",
    "* np.array\n",
    "* np.copy"
   ]
  },
  {
   "cell_type": "code",
   "execution_count": null,
   "id": "a5471c4b-986c-4d02-8fc9-ea443e2632e8",
   "metadata": {
    "colab": {
     "base_uri": "https://localhost:8080/"
    },
    "executionInfo": {
     "elapsed": 21,
     "status": "ok",
     "timestamp": 1646703265299,
     "user": {
      "displayName": "Luis Fernando Leal Hernandez",
      "photoUrl": "https://lh3.googleusercontent.com/a/default-user=s64",
      "userId": "08643725771405988586"
     },
     "user_tz": 360
    },
    "id": "E8HIEKTEaxsy",
    "outputId": "93b0ce1b-1edf-478a-dbf1-7738b2b1462f"
   },
   "outputs": [],
   "source": [
    "lista = [2,3,4.0]\n",
    "\n",
    "x = np.array(lista)\n",
    "\n",
    "x "
   ]
  },
  {
   "cell_type": "markdown",
   "id": "06f599b6-7cc8-4435-a883-86acf538384e",
   "metadata": {},
   "source": [
    "### Aritmética Basica con Arreglos"
   ]
  },
  {
   "cell_type": "code",
   "execution_count": 46,
   "id": "f228c088-043a-4696-963c-7da26c99885c",
   "metadata": {},
   "outputs": [
    {
     "name": "stdout",
     "output_type": "stream",
     "text": [
      "[1.   1.75 2.5  3.25 4.  ]\n",
      "[0.    0.375 1.    1.875 3.   ]\n",
      "[0.         0.16666667 0.25       0.3        0.33333333]\n"
     ]
    }
   ],
   "source": [
    "a = np.linspace(0, 1, 5)\n",
    "c = np.linspace(1, 3, 5)\n",
    "print(a+c)\n",
    "print(a*c)\n",
    "print(a/c)"
   ]
  },
  {
   "cell_type": "code",
   "execution_count": null,
   "id": "e4908638-8b25-42b7-bffd-a72e8a462807",
   "metadata": {},
   "outputs": [],
   "source": [
    "a = np.ones(4, dtype=int)\n",
    "b = np.linspace(0, 1, 4)\n",
    "a += b"
   ]
  },
  {
   "cell_type": "code",
   "execution_count": null,
   "id": "5d5b2d60-058d-4c30-96d7-7f426cf9e662",
   "metadata": {},
   "outputs": [],
   "source": [
    "a = np.linspace(0, 1, 5)\n",
    "print(a *2)\n",
    "print(a**2)\n",
    "print(a/2)"
   ]
  },
  {
   "cell_type": "markdown",
   "id": "f0472741-7e64-444c-a7fa-11408a151d7f",
   "metadata": {
    "id": "mggBAMXWaxtU"
   },
   "source": [
    "### ufuncs(universal functions)\n",
    "\n",
    "Ufuncs son funciones que trabajan de manera general independiente de la dimension del objeto al que sean aplicadas, esto significa que la misma función puede ser utilizada sobre valores **escalares**  o sobre **tensores** de cualquier dimensión. , cuando es aplicada sobre tensores esta trabaja elemento por elemento soportando \"broadcasting\" .\n",
    "\n",
    "NumPy provee una gran colección de ufuncs comunes en ciencias y que serán muy útiles en data science, ya hemos usado algunas por ejemplo: **np.sin(tensor)** , muchas comunes y que te serán familares son:\n",
    "\n",
    "* np.sign: determinar el signo de un número\n",
    "* np.abs: valor absoluto de un número\n",
    "* np.cos: coseno de un angulo en radianes\n",
    "* np.sin : seno de un angulo en radianes\n",
    "* np.tan : tangente de un angulo en radianes\n",
    "* np.exp : función exponencial e** x\n",
    "* np.log: logaritmo natural\n",
    "* np.log10 : logaritmo base 10\n",
    "* np.log2 : logaritmo base 2\n",
    "* np.sqrt : raiz cuadrada\n",
    "* np.power : potenciacion\n",
    "\n",
    "Al trabajar una aplicación numérica/científica es recomendable tener a la mano la documentación de las funciones disponibles : https://docs.scipy.org/doc/numpy-1.15.1/reference/routines.math.html\n",
    "\n",
    "#### Nota: \n",
    "En algunos casos requeriremos crear nuestras propias funciones y es recomendable que se apeguen a las ufuncs, es decir que se puedan aplicar independiente de la dimensión del objeto al que se aplican, que soporten broadcasting y muy importante **que su definición evite ciclos y use operaciones vectorizadas y otras ufuncs** , esto será parte de los criterios de evaluación en tareas y exámenes en este curso."
   ]
  },
  {
   "cell_type": "code",
   "execution_count": null,
   "id": "f432bc1e-4454-478c-81c8-92aecc3f6c50",
   "metadata": {
    "colab": {
     "base_uri": "https://localhost:8080/"
    },
    "executionInfo": {
     "elapsed": 84,
     "status": "ok",
     "timestamp": 1646703266999,
     "user": {
      "displayName": "Luis Fernando Leal Hernandez",
      "photoUrl": "https://lh3.googleusercontent.com/a/default-user=s64",
      "userId": "08643725771405988586"
     },
     "user_tz": 360
    },
    "id": "TdLbj7_NaxtX",
    "outputId": "75f0fc56-d2e5-48a9-aba0-c7c0fac4b74b"
   },
   "outputs": [],
   "source": [
    "x = np.array([-5.3,-1,0,1.5,10,100])\n",
    "\n",
    "print(np.sign(x))\n",
    "print(np.abs(x))\n",
    "print(np.cos(x))\n",
    "print(np.sin(x))\n",
    "print(np.tan(x))\n",
    "print(np.exp(x))\n",
    "print(len(x))"
   ]
  },
  {
   "cell_type": "code",
   "execution_count": null,
   "id": "b4576e3a-a85c-41f9-8bd2-a24ee314c662",
   "metadata": {},
   "outputs": [],
   "source": [
    "plt.plot(np.exp(x))"
   ]
  },
  {
   "cell_type": "markdown",
   "id": "d1476fbf-046e-467b-a0f3-a0b2ede00fb1",
   "metadata": {
    "id": "Nzg9gVdoaxtj",
    "tags": []
   },
   "source": [
    "### Funciones miscelaneas(agregación y estadistica descriptiva básica) \n",
    "\n",
    "Ya hemos trabajado algunas funciones de NumPy pero han sido funciones \"elementwise\" cuyo vector resultante tiene el mismo tamaño que el vector de entrada, existen muchas otras funciones que utilizamos en casos en los que necesitamos agregar,resumir cierto vector,incluyendo en este tipo de funciones algunas de estadistica descriptiva básica."
   ]
  },
  {
   "cell_type": "code",
   "execution_count": 47,
   "id": "db9c9979-6422-465e-87ed-80a7e657b80c",
   "metadata": {
    "executionInfo": {
     "elapsed": 409,
     "status": "ok",
     "timestamp": 1646703267389,
     "user": {
      "displayName": "Luis Fernando Leal Hernandez",
      "photoUrl": "https://lh3.googleusercontent.com/a/default-user=s64",
      "userId": "08643725771405988586"
     },
     "user_tz": 360
    },
    "id": "yieQlOmRaxtk"
   },
   "outputs": [],
   "source": [
    "x = np.array([1,2,3,4,5,6,7,8,9,2,2])\n",
    "x_nan = np.array([1,2,3,4,np.nan,6,8,2,2])"
   ]
  },
  {
   "cell_type": "code",
   "execution_count": 49,
   "id": "7f0797ac-ba53-41fe-899a-51c96c55ca84",
   "metadata": {
    "colab": {
     "base_uri": "https://localhost:8080/"
    },
    "executionInfo": {
     "elapsed": 103,
     "status": "ok",
     "timestamp": 1646703267390,
     "user": {
      "displayName": "Luis Fernando Leal Hernandez",
      "photoUrl": "https://lh3.googleusercontent.com/a/default-user=s64",
      "userId": "08643725771405988586"
     },
     "user_tz": 360
    },
    "id": "Qb8Lrr_Aaxtk",
    "outputId": "f8daaa08-57aa-4488-b817-3d9cbc23790d"
   },
   "outputs": [
    {
     "name": "stdout",
     "output_type": "stream",
     "text": [
      "9\n",
      "9\n",
      "nan\n",
      "9\n",
      "8.0\n"
     ]
    }
   ],
   "source": [
    "#nanmax ignora valores nan si existieran , max retorna nan si el vector tuviera un nan\n",
    "print(np.max(x))\n",
    "print(x.max())\n",
    "print(np.max(x_nan))\n",
    "\n",
    "print(np.nanmax(x))\n",
    "print(np.nanmax(x_nan))"
   ]
  },
  {
   "cell_type": "code",
   "execution_count": null,
   "id": "1778e86a-ff8a-4f58-8a23-5049ee303491",
   "metadata": {
    "colab": {
     "base_uri": "https://localhost:8080/"
    },
    "executionInfo": {
     "elapsed": 91,
     "status": "ok",
     "timestamp": 1646703267391,
     "user": {
      "displayName": "Luis Fernando Leal Hernandez",
      "photoUrl": "https://lh3.googleusercontent.com/a/default-user=s64",
      "userId": "08643725771405988586"
     },
     "user_tz": 360
    },
    "id": "tGpt63roaxtl",
    "outputId": "88f5cfd9-c93b-49d4-df58-ed5121db95d2"
   },
   "outputs": [],
   "source": [
    "print(np.argmax(x))\n",
    "print(x.argmax())"
   ]
  },
  {
   "cell_type": "code",
   "execution_count": null,
   "id": "e0a4ea91-a3dc-43a7-bbb8-c85064c28399",
   "metadata": {},
   "outputs": [],
   "source": [
    "x[8]"
   ]
  },
  {
   "cell_type": "code",
   "execution_count": null,
   "id": "fbfc77bd-c400-4319-afff-b3ffb7a5a27c",
   "metadata": {
    "colab": {
     "base_uri": "https://localhost:8080/"
    },
    "executionInfo": {
     "elapsed": 80,
     "status": "ok",
     "timestamp": 1646703267391,
     "user": {
      "displayName": "Luis Fernando Leal Hernandez",
      "photoUrl": "https://lh3.googleusercontent.com/a/default-user=s64",
      "userId": "08643725771405988586"
     },
     "user_tz": 360
    },
    "id": "TrAFnPNzaxtn",
    "outputId": "a667ca1f-5000-49f1-f1b3-b7561e84703a"
   },
   "outputs": [],
   "source": [
    "print(np.min(x))\n",
    "print(x.min())\n",
    "print(np.min(x_nan))\n",
    "\n",
    "print(np.nanmin(x))\n",
    "print(np.nanmin(x_nan))"
   ]
  },
  {
   "cell_type": "code",
   "execution_count": null,
   "id": "784a9130-794d-4ac3-b7d5-7a732eb40312",
   "metadata": {
    "colab": {
     "base_uri": "https://localhost:8080/"
    },
    "executionInfo": {
     "elapsed": 74,
     "status": "ok",
     "timestamp": 1646703267393,
     "user": {
      "displayName": "Luis Fernando Leal Hernandez",
      "photoUrl": "https://lh3.googleusercontent.com/a/default-user=s64",
      "userId": "08643725771405988586"
     },
     "user_tz": 360
    },
    "id": "04gNPKimaxto",
    "outputId": "83e9860d-1a85-4dc9-cd05-3a7ff626edaf"
   },
   "outputs": [],
   "source": [
    "print(np.argmin(x))\n",
    "print(x.min())"
   ]
  },
  {
   "cell_type": "code",
   "execution_count": 50,
   "id": "58cf3c32-3d56-47e0-960b-244df44ed679",
   "metadata": {},
   "outputs": [
    {
     "data": {
      "text/plain": [
       "np.float64(4.454545454545454)"
      ]
     },
     "execution_count": 50,
     "metadata": {},
     "output_type": "execute_result"
    }
   ],
   "source": [
    "np.mean(x)"
   ]
  },
  {
   "cell_type": "code",
   "execution_count": null,
   "id": "cfef56dc-d80a-4c8f-b710-6c8dda699f6f",
   "metadata": {
    "colab": {
     "base_uri": "https://localhost:8080/"
    },
    "executionInfo": {
     "elapsed": 57,
     "status": "ok",
     "timestamp": 1646703267396,
     "user": {
      "displayName": "Luis Fernando Leal Hernandez",
      "photoUrl": "https://lh3.googleusercontent.com/a/default-user=s64",
      "userId": "08643725771405988586"
     },
     "user_tz": 360
    },
    "id": "HsKlSLzXNSQ6",
    "outputId": "dcca2c72-9e8f-47c6-b631-e0127ec44e89"
   },
   "outputs": [],
   "source": [
    "np.argmin(np.array([456,2,100,23]))"
   ]
  },
  {
   "cell_type": "code",
   "execution_count": null,
   "id": "8d510e94-3d2e-4c41-9ac6-544c1c63500b",
   "metadata": {
    "colab": {
     "base_uri": "https://localhost:8080/"
    },
    "executionInfo": {
     "elapsed": 55,
     "status": "ok",
     "timestamp": 1646703267397,
     "user": {
      "displayName": "Luis Fernando Leal Hernandez",
      "photoUrl": "https://lh3.googleusercontent.com/a/default-user=s64",
      "userId": "08643725771405988586"
     },
     "user_tz": 360
    },
    "id": "FnZAM55TNfbH",
    "outputId": "5c0a6133-8260-42ec-f5db-0d78d0180cd6"
   },
   "outputs": [],
   "source": [
    "np.min(np.array([456,2,100,23]))"
   ]
  },
  {
   "cell_type": "code",
   "execution_count": null,
   "id": "b7640544-87a6-4035-ba12-81938b525359",
   "metadata": {
    "colab": {
     "base_uri": "https://localhost:8080/"
    },
    "executionInfo": {
     "elapsed": 52,
     "status": "ok",
     "timestamp": 1646703267398,
     "user": {
      "displayName": "Luis Fernando Leal Hernandez",
      "photoUrl": "https://lh3.googleusercontent.com/a/default-user=s64",
      "userId": "08643725771405988586"
     },
     "user_tz": 360
    },
    "id": "N0yvY5U4axtp",
    "outputId": "f67ea1e5-db08-43d1-8b4f-84350593458b"
   },
   "outputs": [],
   "source": [
    "print(np.sum(x))\n",
    "print(x.sum())\n",
    "print(np.sum(x_nan))"
   ]
  },
  {
   "cell_type": "code",
   "execution_count": null,
   "id": "4fe64439-a25d-4d85-b1d7-259f90a803b6",
   "metadata": {
    "colab": {
     "base_uri": "https://localhost:8080/"
    },
    "executionInfo": {
     "elapsed": 50,
     "status": "ok",
     "timestamp": 1646703267399,
     "user": {
      "displayName": "Luis Fernando Leal Hernandez",
      "photoUrl": "https://lh3.googleusercontent.com/a/default-user=s64",
      "userId": "08643725771405988586"
     },
     "user_tz": 360
    },
    "id": "zDuDhNVbaxtr",
    "outputId": "764c714d-92e0-400a-a928-2d808e624a9c"
   },
   "outputs": [],
   "source": [
    "print(np.prod(x))\n",
    "print(x.prod())\n",
    "print(np.prod(x_nan))"
   ]
  },
  {
   "cell_type": "code",
   "execution_count": null,
   "id": "c0b2d106-78c9-42f1-94db-a4cae1442b40",
   "metadata": {},
   "outputs": [],
   "source": []
  },
  {
   "cell_type": "markdown",
   "id": "78388071-301f-422a-839e-989ce3b276bd",
   "metadata": {
    "id": "7NGf_2y5axtu"
   },
   "source": [
    "#### Estadística descriptiva\n",
    "\n",
    "https://docs.scipy.org/doc/numpy-1.15.0/reference/routines.statistics.html"
   ]
  },
  {
   "cell_type": "code",
   "execution_count": null,
   "id": "69fee94e-5a3d-4c2c-9cfd-93cc5cfac650",
   "metadata": {},
   "outputs": [],
   "source": [
    "x = np.array([1,2,3,4,5,5,7,5,5,5,6,7,8,9,2,6,6,6,6,6,62])\n",
    "x_nan = np.array([1,2,3,4,np.nan,6,8,2,2])"
   ]
  },
  {
   "cell_type": "code",
   "execution_count": null,
   "id": "76216aac-2355-4792-82fa-143fdebe9c22",
   "metadata": {
    "executionInfo": {
     "elapsed": 26,
     "status": "aborted",
     "timestamp": 1646703267731,
     "user": {
      "displayName": "Luis Fernando Leal Hernandez",
      "photoUrl": "https://lh3.googleusercontent.com/a/default-user=s64",
      "userId": "08643725771405988586"
     },
     "user_tz": 360
    },
    "id": "iQFFYwfPaxtv"
   },
   "outputs": [],
   "source": [
    "print(np.mean(x))\n",
    "print(x_nan.mean())"
   ]
  },
  {
   "cell_type": "code",
   "execution_count": null,
   "id": "f0edd427-64be-46d9-8086-127e563b22d7",
   "metadata": {
    "executionInfo": {
     "elapsed": 31,
     "status": "aborted",
     "timestamp": 1646703267736,
     "user": {
      "displayName": "Luis Fernando Leal Hernandez",
      "photoUrl": "https://lh3.googleusercontent.com/a/default-user=s64",
      "userId": "08643725771405988586"
     },
     "user_tz": 360
    },
    "id": "lwAxPhqdL7zX"
   },
   "outputs": [],
   "source": [
    "np.nanmean(x_nan)"
   ]
  },
  {
   "cell_type": "code",
   "execution_count": null,
   "id": "e6a05022-3e18-4d21-86de-4d017d535c8a",
   "metadata": {
    "executionInfo": {
     "elapsed": 32,
     "status": "aborted",
     "timestamp": 1646703267737,
     "user": {
      "displayName": "Luis Fernando Leal Hernandez",
      "photoUrl": "https://lh3.googleusercontent.com/a/default-user=s64",
      "userId": "08643725771405988586"
     },
     "user_tz": 360
    },
    "id": "mS1zTVbFaxtw"
   },
   "outputs": [],
   "source": [
    "print(np.median(x))\n",
    "print(np.median(x_nan))"
   ]
  },
  {
   "cell_type": "code",
   "execution_count": null,
   "id": "0555880f-b0aa-4608-984a-b6e3e462a346",
   "metadata": {},
   "outputs": [],
   "source": [
    "np.nanmedian(x_nan)"
   ]
  },
  {
   "cell_type": "code",
   "execution_count": null,
   "id": "37770587-f8be-4f23-9176-8e7573bbdc04",
   "metadata": {
    "executionInfo": {
     "elapsed": 33,
     "status": "aborted",
     "timestamp": 1646703267738,
     "user": {
      "displayName": "Luis Fernando Leal Hernandez",
      "photoUrl": "https://lh3.googleusercontent.com/a/default-user=s64",
      "userId": "08643725771405988586"
     },
     "user_tz": 360
    },
    "id": "zWK9TMATaxtw"
   },
   "outputs": [],
   "source": [
    "print(x.std())\n",
    "print(np.std(x))"
   ]
  },
  {
   "cell_type": "code",
   "execution_count": null,
   "id": "b8501713-4c15-43d1-88fc-0d2bdf3d7538",
   "metadata": {
    "executionInfo": {
     "elapsed": 35,
     "status": "aborted",
     "timestamp": 1646703267740,
     "user": {
      "displayName": "Luis Fernando Leal Hernandez",
      "photoUrl": "https://lh3.googleusercontent.com/a/default-user=s64",
      "userId": "08643725771405988586"
     },
     "user_tz": 360
    },
    "id": "Dzn4LVTpaxtx"
   },
   "outputs": [],
   "source": [
    "print(x.var())\n",
    "print(np.var(x))"
   ]
  },
  {
   "cell_type": "markdown",
   "id": "9895be05-3075-4db1-a2fe-46f470e02863",
   "metadata": {
    "id": "Fn081ds-axty"
   },
   "source": [
    "**Ejercicio** Usando argmax crear una función mode(x) para calcular la moda de un vector x , esta función debe devolver una tupla de 2 elementos de la forma:\n",
    "\n",
    "(valor,conteo)\n",
    "\n",
    "**tip** investigar y auxiliarse de otras funciones de numpy y np.argmax, no olvidar trabajar todo vectorizado, sin ciclos."
   ]
  },
  {
   "cell_type": "code",
   "execution_count": null,
   "id": "3c8a3cae-482e-4410-8012-900d7faa752e",
   "metadata": {
    "executionInfo": {
     "elapsed": 35,
     "status": "aborted",
     "timestamp": 1646703267741,
     "user": {
      "displayName": "Luis Fernando Leal Hernandez",
      "photoUrl": "https://lh3.googleusercontent.com/a/default-user=s64",
      "userId": "08643725771405988586"
     },
     "user_tz": 360
    },
    "id": "W0Y0-ZZ-axty"
   },
   "outputs": [],
   "source": [
    "def mode(x):\n",
    "    ## tu codigo aqui (~ 3 lineas de codigo):\n",
    "    vector, conteos = np.unique(x, return_counts=True)\n",
    "    i = np.argmax(conteos)\n",
    "    return x[i]\n",
    "    \n",
    "print(mode(x))"
   ]
  },
  {
   "cell_type": "code",
   "execution_count": null,
   "id": "75a31058-b4fb-419b-a850-fe79fb1f0653",
   "metadata": {},
   "outputs": [],
   "source": [
    "np.unique(x, return_counts=True)"
   ]
  },
  {
   "cell_type": "markdown",
   "id": "fa95db8b-997a-45c5-8fb7-169ccc9e1ab8",
   "metadata": {},
   "source": [
    "## Ejercicio\n",
    "\n",
    "Vamos a simular tirar una moneda, y hacer una grafica de la distribucion.\n",
    "\n",
    "```python\n",
    "random.choice(a, size=None, replace=True, p=None)\n",
    "```"
   ]
  },
  {
   "cell_type": "code",
   "execution_count": 51,
   "id": "8f56fae7-f5d2-4e69-81b3-5656158341ce",
   "metadata": {},
   "outputs": [],
   "source": [
    "# Number of coin tosses\n",
    "num_tosses = 1000\n",
    "\n",
    "tosses = np.random.choice([0, 1], size=num_tosses)"
   ]
  },
  {
   "cell_type": "code",
   "execution_count": 53,
   "id": "2e373b0f-cb9e-4248-a819-7648899acf33",
   "metadata": {},
   "outputs": [
    {
     "data": {
      "text/plain": [
       "(1000,)"
      ]
     },
     "execution_count": 53,
     "metadata": {},
     "output_type": "execute_result"
    }
   ],
   "source": [
    "tosses.shape"
   ]
  },
  {
   "cell_type": "markdown",
   "id": "85b472e2-c5e6-45c9-8bfd-4990d7208f0a",
   "metadata": {},
   "source": [
    "### Generar grafico de la distribución"
   ]
  },
  {
   "cell_type": "code",
   "execution_count": null,
   "id": "93e86cc6-436b-48ca-bc8f-36e81c6a749a",
   "metadata": {},
   "outputs": [],
   "source": [
    "sns.histplot(tosses, bins=2, kde=False, discrete=True)\n",
    "plt.xticks([0, 1], ['Cruz', 'Cara'])\n",
    "plt.xlabel('Salida')\n",
    "plt.ylabel('Frecuencia')\n",
    "plt.title('Distribución de la simulación')\n",
    "plt.show()"
   ]
  },
  {
   "cell_type": "markdown",
   "id": "92ccf8c8-0ed0-40c9-a1e0-55cf739983ad",
   "metadata": {},
   "source": [
    "### Analisis de los datos"
   ]
  },
  {
   "cell_type": "code",
   "execution_count": 56,
   "id": "c27becc1-14be-4307-90ff-e1c06e2d4367",
   "metadata": {},
   "outputs": [
    {
     "name": "stdout",
     "output_type": "stream",
     "text": [
      "Mean: 0.495\n",
      "Variance: 0.249975\n"
     ]
    }
   ],
   "source": [
    "mean = np.mean(tosses)\n",
    "variance = np.var(tosses)\n",
    "\n",
    "print(f\"Mean: {mean}\")\n",
    "print(f\"Variance: {variance}\")"
   ]
  },
  {
   "cell_type": "code",
   "execution_count": null,
   "id": "9a82ce3b-6999-4d37-af0d-1571719c3523",
   "metadata": {},
   "outputs": [],
   "source": []
  },
  {
   "cell_type": "code",
   "execution_count": 58,
   "id": "20cece3f-48fd-4d1d-a45d-5d6173534127",
   "metadata": {},
   "outputs": [],
   "source": [
    "medias = []\n",
    "varianzas = []\n",
    "\n",
    "num_tosses = 1000\n",
    "\n",
    "for i in range(0, 300):\n",
    "    ## implementamos la logica en el ciclo \n",
    "    tosses = np.random.choice([0, 1], size=num_tosses)\n",
    "    #print(tosses.shape)\n",
    "    mean = np.mean(tosses)\n",
    "    variance = np.var(tosses)\n",
    "\n",
    "    medias.append(mean)\n",
    "    varianzas.append(variance)\n",
    "    "
   ]
  },
  {
   "cell_type": "markdown",
   "id": "a7c70731-9ef0-4b42-bb33-dde582ebfbb4",
   "metadata": {},
   "source": [
    "### Calculando el valor medio de las medias"
   ]
  },
  {
   "cell_type": "code",
   "execution_count": 61,
   "id": "80671609-535f-4377-9cf1-01396f73f5f0",
   "metadata": {},
   "outputs": [
    {
     "data": {
      "text/plain": [
       "np.float64(0.5005633333333332)"
      ]
     },
     "execution_count": 61,
     "metadata": {},
     "output_type": "execute_result"
    }
   ],
   "source": [
    "np.array(medias).mean()"
   ]
  },
  {
   "cell_type": "markdown",
   "id": "12ef9231-aad4-4187-9122-261ca41736ee",
   "metadata": {},
   "source": [
    "### Graficamos las medias"
   ]
  },
  {
   "cell_type": "code",
   "execution_count": 62,
   "id": "6703a49c-0d65-430d-808b-376e5146fa0c",
   "metadata": {},
   "outputs": [
    {
     "data": {
      "image/png": "[encoded data removed]",
      "text/plain": [
       "<Figure size 1500x600 with 1 Axes>"
      ]
     },
     "metadata": {},
     "output_type": "display_data"
    }
   ],
   "source": [
    "x = np.arange(len(medias))\n",
    "\n",
    "plt.figure(figsize=(15, 6))\n",
    "sns.lineplot(x=x, y=medias, marker='o')  \n",
    "plt.xlabel('Iteraciones')\n",
    "plt.ylabel('Media')\n",
    "plt.title('Media en cada simulacion')\n",
    "plt.grid(True) \n",
    "plt.show()"
   ]
  },
  {
   "cell_type": "code",
   "execution_count": 63,
   "id": "9fa8a106-2faf-46b1-bb16-b05230bca745",
   "metadata": {},
   "outputs": [
    {
     "data": {
      "image/png": "[encoded data removed]",
      "text/plain": [
       "<Figure size 1500x600 with 1 Axes>"
      ]
     },
     "metadata": {},
     "output_type": "display_data"
    }
   ],
   "source": [
    "x = np.arange(len(varianzas))\n",
    "\n",
    "plt.figure(figsize=(15, 6))\n",
    "sns.lineplot(x=x, y=varianzas, marker='o')  \n",
    "plt.xlabel('Iteraciones')\n",
    "plt.ylabel('Varianza')\n",
    "plt.title('Varianza en cada simulacion')\n",
    "plt.grid(True) \n",
    "plt.show()"
   ]
  },
  {
   "cell_type": "code",
   "execution_count": null,
   "id": "13bc15c7-5c00-46c7-91d3-bdb7fb76a34c",
   "metadata": {},
   "outputs": [],
   "source": []
  }
 ],
 "metadata": {
  "kernelspec": {
   "display_name": "Python 3 (ipykernel)",
   "language": "python",
   "name": "python3"
  },
  "language_info": {
   "codemirror_mode": {
    "name": "ipython",
    "version": 3
   },
   "file_extension": ".py",
   "mimetype": "text/x-python",
   "name": "python",
   "nbconvert_exporter": "python",
   "pygments_lexer": "ipython3",
   "version": "3.12.7"
  }
 },
 "nbformat": 4,
 "nbformat_minor": 5
}
